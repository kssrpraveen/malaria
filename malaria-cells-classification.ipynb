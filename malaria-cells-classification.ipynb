{
 "cells": [
  {
   "cell_type": "markdown",
   "metadata": {
    "_uuid": "7d1b420e6d92e31640385c4e84a1d88c768dc87e"
   },
   "source": [
    "# Import Libraries"
   ]
  },
  {
   "cell_type": "code",
   "execution_count": null,
   "metadata": {
    "_uuid": "d798d3bd9e28d4be455126442a30a184ec321b7d"
   },
   "outputs": [],
   "source": [
    "#Importing Necessary Libraries.\n",
    "from PIL import Image\n",
    "import numpy as np\n",
    "import os\n",
    "import cv2\n",
    "import keras\n",
    "from keras.utils import np_utils\n",
    "from keras.models import Sequential\n",
    "from keras.layers import Conv2D,MaxPooling2D,Dense,Flatten,Dropout"
   ]
  },
  {
   "cell_type": "code",
   "execution_count": null,
   "metadata": {
    "_uuid": "7d061391b8f0df57ed5209a8dfe48db36d37c83f"
   },
   "outputs": [],
   "source": [
    "import pandas as pd \n",
    "import os\n",
    "print(os.listdir(\"../input\"))"
   ]
  },
  {
   "cell_type": "code",
   "execution_count": null,
   "metadata": {
    "_uuid": "05433dde99bdcbf9abe0d9fbbc3190b8da2c0165"
   },
   "outputs": [],
   "source": [
    "!ls"
   ]
  },
  {
   "cell_type": "markdown",
   "metadata": {
    "_uuid": "1050f5ab880909a00dc0ddecbc98385377fad4b5"
   },
   "source": [
    "# Data Prepearaion"
   ]
  },
  {
   "cell_type": "markdown",
   "metadata": {
    "_uuid": "4ffa707b541f4d830b1464bc1aee35cfdb93bfba"
   },
   "source": [
    "Data Preperation: We will make data and labels list where data will be image to array implementatation which contains RGB values of each image. and label will be class of cells here I will be taking 0 and 1 for two classes"
   ]
  },
  {
   "cell_type": "code",
   "execution_count": null,
   "metadata": {
    "_uuid": "eea252eaea56c3ee81fb6eb921528e9b376de6d4"
   },
   "outputs": [],
   "source": [
    "data=[]\n",
    "labels=[]\n",
    "Parasitized=os.listdir(\"../input/cell_images/Parasitized/\")\n",
    "for a in Parasitized:\n",
    "    try:\n",
    "        image=cv2.imread(\"../input/cell_images/Parasitized/\"+a)\n",
    "        image_from_array = Image.fromarray(image, 'RGB')\n",
    "        size_image = image_from_array.resize((50, 50))\n",
    "        data.append(np.array(size_image))\n",
    "        labels.append(0)\n",
    "    except AttributeError:\n",
    "        print(\"\")\n",
    "\n",
    "Uninfected=os.listdir(\"../input/cell_images/Uninfected/\")\n",
    "for b in Uninfected:\n",
    "    try:\n",
    "        image=cv2.imread(\"../input/cell_images/Uninfected/\"+b)\n",
    "        image_from_array = Image.fromarray(image, 'RGB')\n",
    "        size_image = image_from_array.resize((50, 50))\n",
    "        data.append(np.array(size_image))\n",
    "        labels.append(1)\n",
    "    except AttributeError:\n",
    "        print(\"\")\n",
    "    "
   ]
  },
  {
   "cell_type": "code",
   "execution_count": null,
   "metadata": {
    "_uuid": "49f77f180eef142806e49f78fc10e63c124cf15b"
   },
   "outputs": [],
   "source": [
    "Cells=np.array(data)\n",
    "labels=np.array(labels)"
   ]
  },
  {
   "cell_type": "markdown",
   "metadata": {
    "_uuid": "2f3ca739e66f2ba524598f85ac58be7b9203c14b"
   },
   "source": [
    "Saving and Loading the data we prepared so next time we can load it from saved .npy file."
   ]
  },
  {
   "cell_type": "code",
   "execution_count": null,
   "metadata": {
    "_uuid": "bbc1a8f5d0df7691f4bff53d2b4189a3a87da93e"
   },
   "outputs": [],
   "source": [
    "np.save(\"Cells\",Cells)\n",
    "np.save(\"labels\",labels)"
   ]
  },
  {
   "cell_type": "code",
   "execution_count": null,
   "metadata": {
    "_uuid": "1bdf24f9a087589fff7b0f860c61f73064cb48a6"
   },
   "outputs": [],
   "source": [
    "Cells=np.load(\"Cells.npy\")\n",
    "labels=np.load(\"labels.npy\")"
   ]
  },
  {
   "cell_type": "markdown",
   "metadata": {
    "_uuid": "fbf7c910d5aaf2c70b684b66eb321caef017a260"
   },
   "source": [
    "Do Train/Test Split of data and labels that prepared in early section. Classes are defined as the unique labels in the data. Here it will be 2 as Parasitized:0 and Uninfected:1, here 0 and 1 are the mapping in labels for these two classes"
   ]
  },
  {
   "cell_type": "code",
   "execution_count": null,
   "metadata": {
    "_uuid": "38a5be2975339a35e0b1054a72a670a173c87edd"
   },
   "outputs": [],
   "source": [
    "s=np.arange(Cells.shape[0])\n",
    "np.random.shuffle(s)\n",
    "Cells=Cells[s]\n",
    "labels=labels[s]"
   ]
  },
  {
   "cell_type": "code",
   "execution_count": null,
   "metadata": {
    "_uuid": "e51f32bad76eb214d59a0d08d2cb74a55c30a5d2"
   },
   "outputs": [],
   "source": [
    "num_classes=len(np.unique(labels))\n",
    "len_data=len(Cells)"
   ]
  },
  {
   "cell_type": "code",
   "execution_count": null,
   "metadata": {
    "_uuid": "fd7d460eb480f02ea8295595083d7676f7a50380"
   },
   "outputs": [],
   "source": [
    "(x_train,x_test)=Cells[(int)(0.1*len_data):],Cells[:(int)(0.1*len_data)]\n",
    "x_train = x_train.astype('float32')/255 # As we are working on image data we are normalizing data by divinding 255.\n",
    "x_test = x_test.astype('float32')/255\n",
    "train_len=len(x_train)\n",
    "test_len=len(x_test)"
   ]
  },
  {
   "cell_type": "code",
   "execution_count": null,
   "metadata": {
    "_uuid": "3511f5413ad67534f96a50aa1904ac3f1dd0f670"
   },
   "outputs": [],
   "source": [
    "(y_train,y_test)=labels[(int)(0.1*len_data):],labels[:(int)(0.1*len_data)]"
   ]
  },
  {
   "cell_type": "markdown",
   "metadata": {
    "_uuid": "e2c0ee60753c13c71f731e99b7d9bf102acd04be"
   },
   "source": [
    "# One hot encoding:"
   ]
  },
  {
   "cell_type": "markdown",
   "metadata": {
    "_uuid": "754f453fd145e79a3fd98433092e64e783b3246b"
   },
   "source": [
    "Here the problem has two classes so last output layer of neural network will have 2 neurons one for each class, One hot encoding will help us to change labels in binary format.\n",
    "example:\n",
    "    2 can be represented as [1 0] if output layer has 2 neurons and [0 0 1 0] if output has 4 neurons/classes"
   ]
  },
  {
   "cell_type": "code",
   "execution_count": null,
   "metadata": {
    "_uuid": "0d4902aacdee8ea002c1b6ffa9d0f39f5d02f150"
   },
   "outputs": [],
   "source": [
    "#Doing One hot encoding as classifier has multiple classes\n",
    "y_train=keras.utils.to_categorical(y_train,num_classes)\n",
    "y_test=keras.utils.to_categorical(y_test,num_classes)"
   ]
  },
  {
   "cell_type": "markdown",
   "metadata": {
    "_uuid": "851fec38f174e8fdc81f96f9b04226871fafb37d"
   },
   "source": [
    "# Create Sequential Model:"
   ]
  },
  {
   "cell_type": "markdown",
   "metadata": {
    "_uuid": "7797f7eb0c31046c09598c8252b094e37e9ecf2d"
   },
   "source": [
    "Here I will be using Relu{max(0,z)}, You can try tanh/sigmoid/Leaky Relu for finding performance on various activation functions.Our output layer will be softmax activation rather than sigmoid as we have more than one class to classify. softmax activation calculates e^value/sum(all_values_in_axis[0 or 1])"
   ]
  },
  {
   "cell_type": "code",
   "execution_count": null,
   "metadata": {
    "_uuid": "86e15ba8ef9099ac18b3ebf011051169fbdc9729"
   },
   "outputs": [],
   "source": [
    "#creating sequential model\n",
    "model=Sequential()\n",
    "model.add(Conv2D(filters=16,kernel_size=2,padding=\"same\",activation=\"relu\",input_shape=(50,50,3)))\n",
    "model.add(MaxPooling2D(pool_size=2))\n",
    "model.add(Conv2D(filters=32,kernel_size=2,padding=\"same\",activation=\"relu\"))\n",
    "model.add(MaxPooling2D(pool_size=2))\n",
    "model.add(Conv2D(filters=64,kernel_size=2,padding=\"same\",activation=\"relu\"))\n",
    "model.add(MaxPooling2D(pool_size=2))\n",
    "model.add(Dropout(0.2))\n",
    "model.add(Flatten())\n",
    "model.add(Dense(500,activation=\"relu\"))\n",
    "model.add(Dropout(0.2))\n",
    "model.add(Dense(2,activation=\"softmax\"))#2 represent output layer neurons \n",
    "model.summary()"
   ]
  },
  {
   "cell_type": "markdown",
   "metadata": {
    "_uuid": "10e595e088d30eafcbf295c8b66051cae99214a8"
   },
   "source": [
    "compile the model with loss as categorical_crossentropy and using adam optimizer you can test result by trying RMSProp as well as Momentum"
   ]
  },
  {
   "cell_type": "code",
   "execution_count": null,
   "metadata": {
    "_uuid": "78fe4d23c9a156fb564ac2ff5de21b3a2ddc489f"
   },
   "outputs": [],
   "source": [
    "# compile the model with loss as categorical_crossentropy and using adam optimizer you can test result by trying RMSProp as well as Momentum\n",
    "model.compile(loss='categorical_crossentropy', optimizer='adam', metrics=['accuracy'])"
   ]
  },
  {
   "cell_type": "code",
   "execution_count": null,
   "metadata": {
    "_uuid": "d667e1137764ec4d417f8daec84515514c362b06"
   },
   "outputs": [],
   "source": [
    "#Fit the model with min batch size as 50[can tune batch size to some factor of 2^power ] \n",
    "model.fit(x_train,y_train,batch_size=50,epochs=20,verbose=1)"
   ]
  },
  {
   "cell_type": "markdown",
   "metadata": {
    "_uuid": "bf8943e5b8b642750ac80eccb1f7d9dd7b9861c7"
   },
   "source": [
    "# Check the accuracy on Test data:"
   ]
  },
  {
   "cell_type": "code",
   "execution_count": null,
   "metadata": {
    "_uuid": "01b0cbc33acf894ceada9ec76d1f081de6e4f009"
   },
   "outputs": [],
   "source": [
    "accuracy = model.evaluate(x_test, y_test, verbose=1)\n",
    "print('\\n', 'Test_Accuracy:-', accuracy[1])"
   ]
  },
  {
   "cell_type": "markdown",
   "metadata": {
    "_uuid": "d83d06f1ae8904a2e2f6df4856360e6d73f75fc0"
   },
   "source": [
    "# Save the model weights:"
   ]
  },
  {
   "cell_type": "code",
   "execution_count": null,
   "metadata": {
    "_uuid": "3c4110bc062e35a1599210012f0d71ac58f95f33"
   },
   "outputs": [],
   "source": [
    "from keras.models import load_model\n",
    "model.save('cells.h5')"
   ]
  },
  {
   "cell_type": "markdown",
   "metadata": {
    "_uuid": "5a4342a05217f759978b56c53b5f37b958886859"
   },
   "source": [
    "# Use of Model in simple application using tkinter."
   ]
  },
  {
   "cell_type": "code",
   "execution_count": null,
   "metadata": {
    "_uuid": "240ab6513bbb715314db6e02fa9f545ff0eddd12"
   },
   "outputs": [],
   "source": [
    "from keras.models import load_model\n",
    "from PIL import Image\n",
    "from PIL import Image\n",
    "import numpy as np\n",
    "import os\n",
    "import cv2\n",
    "def convert_to_array(img):\n",
    "    im = cv2.imread(img)\n",
    "    img_ = Image.fromarray(im, 'RGB')\n",
    "    image = img_.resize((50, 50))\n",
    "    return np.array(image)\n",
    "def get_cell_name(label):\n",
    "    if label==0:\n",
    "        return \"Paracitized\"\n",
    "    if label==1:\n",
    "        return \"Uninfected\"\n",
    "def predict_cell(file):\n",
    "    model = load_model('cells.h5')\n",
    "    print(\"Predicting Type of Cell Image.................................\")\n",
    "    ar=convert_to_array(file)\n",
    "    ar=ar/255\n",
    "    label=1\n",
    "    a=[]\n",
    "    a.append(ar)\n",
    "    a=np.array(a)\n",
    "    score=model.predict(a,verbose=1)\n",
    "    print(score)\n",
    "    label_index=np.argmax(score)\n",
    "    print(label_index)\n",
    "    acc=np.max(score)\n",
    "    Cell=get_cell_name(label_index)\n",
    "    return Cell,\"The predicted Cell is a \"+Cell+\" with accuracy =    \"+str(acc)\n",
    "\n"
   ]
  },
  {
   "cell_type": "code",
   "execution_count": null,
   "metadata": {
    "_uuid": "e09121bf072a0fc72c60192567c475da51bd1d9a"
   },
   "outputs": [],
   "source": [
    "from tkinter import Frame, Tk, BOTH, Text, Menu, END\n",
    "from tkinter import filedialog \n",
    "from tkinter import messagebox as mbox\n",
    "\n",
    "class Example(Frame):\n",
    "\n",
    "    def __init__(self):\n",
    "        super().__init__()   \n",
    "\n",
    "        self.initUI()\n",
    "\n",
    "\n",
    "    def initUI(self):\n",
    "\n",
    "        self.master.title(\"File dialog\")\n",
    "        self.pack(fill=BOTH, expand=1)\n",
    "\n",
    "        menubar = Menu(self.master)\n",
    "        self.master.config(menu=menubar)\n",
    "\n",
    "        fileMenu = Menu(menubar)\n",
    "        fileMenu.add_command(label=\"Open\", command=self.onOpen)\n",
    "        menubar.add_cascade(label=\"File\", menu=fileMenu)        \n",
    "\n",
    "        \n",
    "\n",
    "    def onOpen(self):\n",
    "\n",
    "        ftypes = [('Image', '*.png'), ('All files', '*')]\n",
    "        dlg = filedialog.Open(self, filetypes = ftypes)\n",
    "        fl = dlg.show()\n",
    "        c,s=predict_cell(fl)\n",
    "        root = Tk()\n",
    "        T = Text(root, height=4, width=70)\n",
    "        T.pack()\n",
    "        T.insert(END, s)\n",
    "        \n",
    "\n",
    "def main():\n",
    "\n",
    "    root = Tk()\n",
    "    ex = Example()\n",
    "    root.geometry(\"100x50+100+100\")\n",
    "    root.mainloop()  \n",
    "\n",
    "\n",
    "if __name__ == '__main__':\n",
    "    main()"
   ]
  },
  {
   "cell_type": "code",
   "execution_count": null,
   "metadata": {
    "_uuid": "281a7907182aa861b35ae4c3cb97eabdd3874a14"
   },
   "outputs": [],
   "source": []
  }
 ],
 "metadata": {
  "kernelspec": {
   "display_name": "Python 3",
   "language": "python",
   "name": "python3"
  },
  "language_info": {
   "codemirror_mode": {
    "name": "ipython",
    "version": 3
   },
   "file_extension": ".py",
   "mimetype": "text/x-python",
   "name": "python",
   "nbconvert_exporter": "python",
   "pygments_lexer": "ipython3",
   "version": "3.6.4"
  }
 },
 "nbformat": 4,
 "nbformat_minor": 1
}
